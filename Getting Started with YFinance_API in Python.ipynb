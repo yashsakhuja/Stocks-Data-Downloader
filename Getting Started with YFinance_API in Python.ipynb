{
  "nbformat": 4,
  "nbformat_minor": 0,
  "metadata": {
    "colab": {
      "provenance": [],
      "toc_visible": true,
      "authorship_tag": "ABX9TyM3bYkh8H9+gsfTYWxOAC+a",
      "include_colab_link": true
    },
    "kernelspec": {
      "name": "python3",
      "display_name": "Python 3"
    },
    "language_info": {
      "name": "python"
    }
  },
  "cells": [
    {
      "cell_type": "markdown",
      "metadata": {
        "id": "view-in-github",
        "colab_type": "text"
      },
      "source": [
        "<a href=\"https://colab.research.google.com/github/yashsakhuja/Stocks-Data-Downloader/blob/main/Getting%20Started%20with%20YFinance_API%20in%20Python.ipynb\" target=\"_parent\"><img src=\"https://colab.research.google.com/assets/colab-badge.svg\" alt=\"Open In Colab\"/></a>"
      ]
    },
    {
      "cell_type": "markdown",
      "source": [
        "# Installing and Importing Packages\n"
      ],
      "metadata": {
        "id": "_2zltqfqtK23"
      }
    },
    {
      "cell_type": "code",
      "source": [
        "! pip install -q gspread oauth2client yfinance"
      ],
      "metadata": {
        "id": "7Sgne8u0HfOn"
      },
      "execution_count": null,
      "outputs": []
    },
    {
      "cell_type": "code",
      "source": [
        "import yfinance as yf\n",
        "import pandas as pd\n",
        "from datetime import datetime, timedelta"
      ],
      "metadata": {
        "id": "TPbWIE035Ql7"
      },
      "execution_count": null,
      "outputs": []
    },
    {
      "cell_type": "markdown",
      "source": [
        "# Getting the Parameters"
      ],
      "metadata": {
        "id": "gklZFpRYtQEd"
      }
    },
    {
      "cell_type": "code",
      "source": [
        "# List of tickers\n",
        "tickers = ['LICI.NS', 'INFY.NS', 'HDFCBANK.NS','WIPRO.NS','TATAMOTORS.NS','BHARTIARTL.BO','TCS.NS']\n",
        "\n",
        "# Number of years of historical data\n",
        "nyears = 5\n",
        "\n",
        "# Calculate the start and end dates\n",
        "end_date = datetime.today()\n",
        "start_date = end_date - timedelta(days=nyears * 365)"
      ],
      "metadata": {
        "collapsed": true,
        "id": "uV1WYn-X751d"
      },
      "execution_count": null,
      "outputs": []
    },
    {
      "cell_type": "markdown",
      "source": [
        "# API Call, Getting the Data and Consolidating"
      ],
      "metadata": {
        "id": "O7mhj8tItV1c"
      }
    },
    {
      "cell_type": "code",
      "source": [
        "# Download historical data\n",
        "data = yf.download(tickers, start=start_date.strftime('%Y-%m-%d'), end=end_date.strftime('%Y-%m-%d'))"
      ],
      "metadata": {
        "id": "lqFfSpMntF59"
      },
      "execution_count": null,
      "outputs": []
    },
    {
      "cell_type": "code",
      "source": [
        "data.head()"
      ],
      "metadata": {
        "id": "7h5c_ETjxVxo"
      },
      "execution_count": null,
      "outputs": []
    },
    {
      "cell_type": "code",
      "source": [
        "# Extract the 'Close' prices\n",
        "all_closing_prices = data['Close']"
      ],
      "metadata": {
        "id": "haywdYU8xJRr"
      },
      "execution_count": null,
      "outputs": []
    },
    {
      "cell_type": "code",
      "source": [
        "all_closing_prices.head()"
      ],
      "metadata": {
        "id": "ovzIAfxUxQTY"
      },
      "execution_count": null,
      "outputs": []
    },
    {
      "cell_type": "code",
      "source": [
        "# Transform data to long format\n",
        "final_data = all_closing_prices.reset_index().melt(id_vars='Date', var_name='Ticker', value_name='Close')"
      ],
      "metadata": {
        "id": "zYhrp_tMxMgK"
      },
      "execution_count": null,
      "outputs": []
    },
    {
      "cell_type": "code",
      "source": [
        "final_data.tail()"
      ],
      "metadata": {
        "id": "aCMsp-uP98CM"
      },
      "execution_count": null,
      "outputs": []
    },
    {
      "cell_type": "markdown",
      "source": [
        "# **Additional**: Updating Google Sheets File\n",
        "\n",
        "This is a additional section not covered in the blog but if you want to build your own google sheets updating mechanism you could build one with the given code snippet by updating the credentials path and your google sheet file name (and worksheet name if required)\n",
        "\n",
        "Before you run these set of codes an essential pre-requisites are:\n",
        "\n",
        "## **Initial setup for private spreadsheet and/or CRUD mode**\n",
        "\n",
        "> **Enable API Access for a Project**\n",
        "\n",
        "\n",
        "1.   Head to Google Developers Console and create a new project (or select the one you already have).\n",
        "\n",
        "2.   In the box labeled “Search for APIs and Services”, search for “Google Drive API” and enable it.\n",
        "\n",
        "3.   In the box labeled “Search for APIs and Services”, search for “Google Sheets API” and enable it.\n",
        "\n",
        "\n",
        "\n",
        "> **Using Service Account**\n",
        "\n",
        "\n",
        "\n",
        "1.   Enable API Access for a Project if you haven’t done it yet.\n",
        "\n",
        "      Go to “APIs & Services > Credentials” and choose “Create credentials > Service account key”.\n",
        "\n",
        "      Fill out the form\n",
        "      Click “Create” and “Done”.\n",
        "\n",
        "2.   Press “Manage service accounts” above Service Accounts.\n",
        "\n",
        "\n",
        "3.   Press on ⋮ near recently created service account and select “Manage keys” and then click on “ADD KEY > Create new key”.\n",
        "\n",
        "4.   Select JSON key type and press “Create”.\n",
        "You will automatically download a JSON file with credentials.\n",
        "\n",
        "\n",
        "\n",
        "\n",
        "> Finally, Upload this json key file on your gdrive and use the file location as reference for credentials\n",
        "\n",
        "\n",
        "\n",
        "\n",
        "\n",
        "\n",
        "\n",
        "\n",
        "\n"
      ],
      "metadata": {
        "id": "aYaPS59Sub4Y"
      }
    },
    {
      "cell_type": "code",
      "source": [
        "import gspread\n",
        "from oauth2client.service_account import ServiceAccountCredentials"
      ],
      "metadata": {
        "id": "-6_rOYlSHtj9"
      },
      "execution_count": null,
      "outputs": []
    },
    {
      "cell_type": "code",
      "source": [
        "#Mounting my Google Drive\n",
        "from google.colab import drive\n",
        "drive.mount('/content/drive')"
      ],
      "metadata": {
        "id": "I2na_kbou0P9"
      },
      "execution_count": null,
      "outputs": []
    },
    {
      "cell_type": "code",
      "source": [
        "# Initializing the scope\n",
        "scope = [\"https://spreadsheets.google.com/feeds\", \"https://www.googleapis.com/auth/spreadsheets\",\n",
        "         \"https://www.googleapis.com/auth/drive.file\", \"https://www.googleapis.com/auth/drive\"]\n"
      ],
      "metadata": {
        "id": "zDw4omvkFJ3O"
      },
      "execution_count": null,
      "outputs": []
    },
    {
      "cell_type": "code",
      "source": [
        "# Path to the credentials JSON file in Google Drive\n",
        "creds_path = '/content/drive/My Drive/Your_Key_Json_Filename.json'  # Path for the Google Service Json Key stored in Drive"
      ],
      "metadata": {
        "id": "A3W5HJDxKtUj"
      },
      "execution_count": null,
      "outputs": []
    },
    {
      "cell_type": "code",
      "source": [
        "# initialize the gspread client with scope and credential\n",
        "creds = ServiceAccountCredentials.from_json_keyfile_name(creds_path, scope)\n",
        "client = gspread.authorize(creds)"
      ],
      "metadata": {
        "id": "_ZkT7GDaFMfL"
      },
      "execution_count": null,
      "outputs": []
    },
    {
      "cell_type": "code",
      "source": [
        "# Open the Google Sheet\n",
        "sheet = client.open(\"Your_Google_Sheet_Name\").sheet1  # Open the first sheet of the spreadsheet\n",
        "\n",
        "# Clear the sheet before writing new data\n",
        "sheet.clear()"
      ],
      "metadata": {
        "id": "RZAzpmMKLDws"
      },
      "execution_count": null,
      "outputs": []
    },
    {
      "cell_type": "code",
      "source": [
        "# Convert DataFrame to list of lists, ensuring all values are serializable\n",
        "# Else it give you error that the data is not serializable\n",
        "data_to_insert = [final_data.columns.tolist()] + final_data.astype(str).values.tolist()"
      ],
      "metadata": {
        "id": "8Hj9TiImvKOc"
      },
      "execution_count": null,
      "outputs": []
    },
    {
      "cell_type": "code",
      "source": [
        "# Update the sheet with new data\n",
        "sheet.update(data_to_insert)\n",
        "\n",
        "print(\"Data successfully exported to Google Sheets!\")"
      ],
      "metadata": {
        "id": "eif6lNLfLWcq"
      },
      "execution_count": null,
      "outputs": []
    }
  ]
}